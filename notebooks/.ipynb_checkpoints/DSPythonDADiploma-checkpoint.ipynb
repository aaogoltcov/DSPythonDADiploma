{
 "cells": [
  {
   "cell_type": "code",
   "execution_count": 1,
   "metadata": {},
   "outputs": [],
   "source": [
    "# Задание Дан файл HR.csv с данными по опросу уровня удовлетворенности сотрудниками работой.\n",
    "# Файл доступен тут -https://drive.google.com/file/d/1INgo03nal-vwFJe7Lec5vOUtOwfJdUr1/view?usp=sharing\n",
    "\n",
    "# Признаки:\n",
    "#     1.satisfaction_level​ - Уровень удовлетворенности работой\n",
    "#     2.Last_evaluation ​- Время с момента последней оценки в годах\n",
    "#     3.number_projects​ - Количество проектов, выполненных за время работы\n",
    "#     4.average_monthly_hours​ - Среднее количество часов на рабочем месте в месяц\n",
    "#     5.time_spend_company​ - Стаж работы в компании в годах\n",
    "#     6.work_accident​ - Происходили ли несчастные случаи на рабочем месте с сотрудником\n",
    "#     7.left​ - уволился ли сотрудник\n",
    "#     8.promotion_last_5years​ - повышался ли сотрудник за последние пять лет\n",
    "#     9.department ​- отдел в котором работает сотрудник\n",
    "#     10.salary​ - относительный уровень зарплатыТребуется выполнить следующее задание:\n",
    "#         1Загрузите файл HR.csv в pandas dataframe\n",
    "#         2Рассчитайте основные статистики для переменных(среднее,медиана,мода,мин/макс,сред.отклонение).\n",
    "#         3Рассчитайте и визуализировать корреляционную матрицу для количественных переменных.\n",
    "#         Определите две самые скоррелированные и две наименеескоррелированные переменные.\n",
    "#         4Рассчитайте сколько сотрудников работает в каждомдепартаменте.\n",
    "#         5Показать распределение сотрудников по зарплатам.\n",
    "#         6Показать распределение сотрудников по зарплатам в каждомдепартаменте по отдельности\n",
    "#         7Проверить гипотезу, что сотрудники с высоким окладом проводят на работе больше времени, \n",
    "#          чем сотрудники с низкимокладом\n",
    "#         8Рассчитать следующие показатели среди уволившихся и неуволившихся сотрудников (по отдельности):\n",
    "#             ●Доля сотрудников с повышением за последние 5 лет\n",
    "#             ●Средняя степень удовлетворенности\n",
    "#             ●Среднее количество проектов\n",
    "#         9Разделить данные на тестовую и обучающую выборкиПостроить модель LDA, \n",
    "#         предсказывающую уволился лисотрудник на основе имеющихся факторов (кроме department и salary)\n",
    "#         Оценить качество модели на тестовой выборки\n",
    "#         10Загрузить jupyter notebook с решение на github и прислать ссылку"
   ]
  },
  {
   "cell_type": "code",
   "execution_count": 2,
   "metadata": {},
   "outputs": [],
   "source": [
    "import numpy as np\n",
    "import pandas as pd\n",
    "import scipy.stats as sts\n",
    "import matplotlib.pyplot as plt\n",
    "import seaborn as sn\n",
    "from sklearn.model_selection import train_test_split\n",
    "from sklearn.discriminant_analysis import LinearDiscriminantAnalysis\n",
    "from sklearn.metrics import accuracy_score\n",
    "from sklearn.preprocessing import StandardScaler\n",
    "from sklearn.cluster import KMeans\n",
    "from sklearn.cluster import AgglomerativeClustering\n",
    "from scipy.spatial.distance import pdist\n",
    "from scipy.cluster import hierarchy\n",
    "from sklearn.metrics import confusion_matrix\n",
    "from sklearn.linear_model import LogisticRegression\n",
    "from scipy.stats import f_oneway"
   ]
  },
  {
   "cell_type": "code",
   "execution_count": 3,
   "metadata": {},
   "outputs": [
    {
     "data": {
      "text/html": [
       "<div>\n",
       "<style scoped>\n",
       "    .dataframe tbody tr th:only-of-type {\n",
       "        vertical-align: middle;\n",
       "    }\n",
       "\n",
       "    .dataframe tbody tr th {\n",
       "        vertical-align: top;\n",
       "    }\n",
       "\n",
       "    .dataframe thead th {\n",
       "        text-align: right;\n",
       "    }\n",
       "</style>\n",
       "<table border=\"1\" class=\"dataframe\">\n",
       "  <thead>\n",
       "    <tr style=\"text-align: right;\">\n",
       "      <th></th>\n",
       "      <th>satisfaction_level</th>\n",
       "      <th>last_evaluation</th>\n",
       "      <th>number_project</th>\n",
       "      <th>average_montly_hours</th>\n",
       "      <th>time_spend_company</th>\n",
       "      <th>Work_accident</th>\n",
       "      <th>left</th>\n",
       "      <th>promotion_last_5years</th>\n",
       "      <th>department</th>\n",
       "      <th>salary</th>\n",
       "    </tr>\n",
       "  </thead>\n",
       "  <tbody>\n",
       "    <tr>\n",
       "      <th>0</th>\n",
       "      <td>0.38</td>\n",
       "      <td>0.53</td>\n",
       "      <td>2</td>\n",
       "      <td>157</td>\n",
       "      <td>3</td>\n",
       "      <td>0</td>\n",
       "      <td>1</td>\n",
       "      <td>0</td>\n",
       "      <td>sales</td>\n",
       "      <td>low</td>\n",
       "    </tr>\n",
       "    <tr>\n",
       "      <th>1</th>\n",
       "      <td>0.80</td>\n",
       "      <td>0.86</td>\n",
       "      <td>5</td>\n",
       "      <td>262</td>\n",
       "      <td>6</td>\n",
       "      <td>0</td>\n",
       "      <td>1</td>\n",
       "      <td>0</td>\n",
       "      <td>sales</td>\n",
       "      <td>medium</td>\n",
       "    </tr>\n",
       "    <tr>\n",
       "      <th>2</th>\n",
       "      <td>0.11</td>\n",
       "      <td>0.88</td>\n",
       "      <td>7</td>\n",
       "      <td>272</td>\n",
       "      <td>4</td>\n",
       "      <td>0</td>\n",
       "      <td>1</td>\n",
       "      <td>0</td>\n",
       "      <td>sales</td>\n",
       "      <td>medium</td>\n",
       "    </tr>\n",
       "    <tr>\n",
       "      <th>3</th>\n",
       "      <td>0.72</td>\n",
       "      <td>0.87</td>\n",
       "      <td>5</td>\n",
       "      <td>223</td>\n",
       "      <td>5</td>\n",
       "      <td>0</td>\n",
       "      <td>1</td>\n",
       "      <td>0</td>\n",
       "      <td>sales</td>\n",
       "      <td>low</td>\n",
       "    </tr>\n",
       "    <tr>\n",
       "      <th>4</th>\n",
       "      <td>0.37</td>\n",
       "      <td>0.52</td>\n",
       "      <td>2</td>\n",
       "      <td>159</td>\n",
       "      <td>3</td>\n",
       "      <td>0</td>\n",
       "      <td>1</td>\n",
       "      <td>0</td>\n",
       "      <td>sales</td>\n",
       "      <td>low</td>\n",
       "    </tr>\n",
       "  </tbody>\n",
       "</table>\n",
       "</div>"
      ],
      "text/plain": [
       "   satisfaction_level  last_evaluation  number_project  average_montly_hours  \\\n",
       "0                0.38             0.53               2                   157   \n",
       "1                0.80             0.86               5                   262   \n",
       "2                0.11             0.88               7                   272   \n",
       "3                0.72             0.87               5                   223   \n",
       "4                0.37             0.52               2                   159   \n",
       "\n",
       "   time_spend_company  Work_accident  left  promotion_last_5years department  \\\n",
       "0                   3              0     1                      0      sales   \n",
       "1                   6              0     1                      0      sales   \n",
       "2                   4              0     1                      0      sales   \n",
       "3                   5              0     1                      0      sales   \n",
       "4                   3              0     1                      0      sales   \n",
       "\n",
       "   salary  \n",
       "0     low  \n",
       "1  medium  \n",
       "2  medium  \n",
       "3     low  \n",
       "4     low  "
      ]
     },
     "execution_count": 3,
     "metadata": {},
     "output_type": "execute_result"
    }
   ],
   "source": [
    "# Загрузите файл HR.csv в pandas dataframe\n",
    "df = pd.read_csv('HR.csv')\n",
    "df = df.rename(columns = {'sales': 'department'}, inplace = False)\n",
    "df.head(5)"
   ]
  },
  {
   "cell_type": "code",
   "execution_count": 4,
   "metadata": {},
   "outputs": [
    {
     "data": {
      "text/html": [
       "<div>\n",
       "<style scoped>\n",
       "    .dataframe tbody tr th:only-of-type {\n",
       "        vertical-align: middle;\n",
       "    }\n",
       "\n",
       "    .dataframe tbody tr th {\n",
       "        vertical-align: top;\n",
       "    }\n",
       "\n",
       "    .dataframe thead th {\n",
       "        text-align: right;\n",
       "    }\n",
       "</style>\n",
       "<table border=\"1\" class=\"dataframe\">\n",
       "  <thead>\n",
       "    <tr style=\"text-align: right;\">\n",
       "      <th></th>\n",
       "      <th>Mean</th>\n",
       "      <th>Median</th>\n",
       "      <th>Mode</th>\n",
       "      <th>Min</th>\n",
       "      <th>Max</th>\n",
       "      <th>Mean deviation</th>\n",
       "      <th>Standard deviation</th>\n",
       "    </tr>\n",
       "  </thead>\n",
       "  <tbody>\n",
       "    <tr>\n",
       "      <th>satisfaction_level</th>\n",
       "      <td>0.612834</td>\n",
       "      <td>0.64</td>\n",
       "      <td>0.10</td>\n",
       "      <td>0.09</td>\n",
       "      <td>1.0</td>\n",
       "      <td>0.206911</td>\n",
       "      <td>0.248631</td>\n",
       "    </tr>\n",
       "    <tr>\n",
       "      <th>last_evaluation</th>\n",
       "      <td>0.716102</td>\n",
       "      <td>0.72</td>\n",
       "      <td>0.55</td>\n",
       "      <td>0.36</td>\n",
       "      <td>1.0</td>\n",
       "      <td>0.150389</td>\n",
       "      <td>0.171169</td>\n",
       "    </tr>\n",
       "    <tr>\n",
       "      <th>number_project</th>\n",
       "      <td>3.803054</td>\n",
       "      <td>4.00</td>\n",
       "      <td>4.00</td>\n",
       "      <td>2.00</td>\n",
       "      <td>7.0</td>\n",
       "      <td>1.008344</td>\n",
       "      <td>1.232592</td>\n",
       "    </tr>\n",
       "    <tr>\n",
       "      <th>average_montly_hours</th>\n",
       "      <td>201.050337</td>\n",
       "      <td>200.00</td>\n",
       "      <td>135.00</td>\n",
       "      <td>96.00</td>\n",
       "      <td>310.0</td>\n",
       "      <td>43.671320</td>\n",
       "      <td>49.943099</td>\n",
       "    </tr>\n",
       "    <tr>\n",
       "      <th>time_spend_company</th>\n",
       "      <td>3.498233</td>\n",
       "      <td>3.00</td>\n",
       "      <td>3.00</td>\n",
       "      <td>2.00</td>\n",
       "      <td>10.0</td>\n",
       "      <td>1.076123</td>\n",
       "      <td>1.460136</td>\n",
       "    </tr>\n",
       "    <tr>\n",
       "      <th>Work_accident</th>\n",
       "      <td>0.144610</td>\n",
       "      <td>0.00</td>\n",
       "      <td>0.00</td>\n",
       "      <td>0.00</td>\n",
       "      <td>1.0</td>\n",
       "      <td>0.247395</td>\n",
       "      <td>0.351719</td>\n",
       "    </tr>\n",
       "    <tr>\n",
       "      <th>left</th>\n",
       "      <td>0.238083</td>\n",
       "      <td>0.00</td>\n",
       "      <td>0.00</td>\n",
       "      <td>0.00</td>\n",
       "      <td>1.0</td>\n",
       "      <td>0.362798</td>\n",
       "      <td>0.425924</td>\n",
       "    </tr>\n",
       "    <tr>\n",
       "      <th>promotion_last_5years</th>\n",
       "      <td>0.021268</td>\n",
       "      <td>0.00</td>\n",
       "      <td>0.00</td>\n",
       "      <td>0.00</td>\n",
       "      <td>1.0</td>\n",
       "      <td>0.041632</td>\n",
       "      <td>0.144281</td>\n",
       "    </tr>\n",
       "  </tbody>\n",
       "</table>\n",
       "</div>"
      ],
      "text/plain": [
       "                             Mean  Median    Mode    Min    Max  \\\n",
       "satisfaction_level       0.612834    0.64    0.10   0.09    1.0   \n",
       "last_evaluation          0.716102    0.72    0.55   0.36    1.0   \n",
       "number_project           3.803054    4.00    4.00   2.00    7.0   \n",
       "average_montly_hours   201.050337  200.00  135.00  96.00  310.0   \n",
       "time_spend_company       3.498233    3.00    3.00   2.00   10.0   \n",
       "Work_accident            0.144610    0.00    0.00   0.00    1.0   \n",
       "left                     0.238083    0.00    0.00   0.00    1.0   \n",
       "promotion_last_5years    0.021268    0.00    0.00   0.00    1.0   \n",
       "\n",
       "                       Mean deviation  Standard deviation  \n",
       "satisfaction_level           0.206911            0.248631  \n",
       "last_evaluation              0.150389            0.171169  \n",
       "number_project               1.008344            1.232592  \n",
       "average_montly_hours        43.671320           49.943099  \n",
       "time_spend_company           1.076123            1.460136  \n",
       "Work_accident                0.247395            0.351719  \n",
       "left                         0.362798            0.425924  \n",
       "promotion_last_5years        0.041632            0.144281  "
      ]
     },
     "execution_count": 4,
     "metadata": {},
     "output_type": "execute_result"
    }
   ],
   "source": [
    "# Рассчитайте основные статистики для переменных(среднее,медиана,мода,мин/макс,сред.отклонение)\n",
    "df_statistics = pd.DataFrame()\n",
    "df_statistics['Mean'] = df.mean()\n",
    "df_statistics['Median'] = df.median()\n",
    "df_statistics['Mode'] = df.mode(numeric_only=True, axis=0).iloc[0]\n",
    "df_statistics['Min'] = df.min(numeric_only=True)\n",
    "df_statistics['Max'] = df.max(numeric_only=True)\n",
    "df_statistics['Mean deviation'] = df.mad()\n",
    "df_statistics['Standard deviation'] = df.std()\n",
    "df_statistics"
   ]
  },
  {
   "cell_type": "code",
   "execution_count": 5,
   "metadata": {},
   "outputs": [
    {
     "data": {
      "text/plain": [
       "<AxesSubplot:>"
      ]
     },
     "execution_count": 5,
     "metadata": {},
     "output_type": "execute_result"
    },
    {
     "data": {
      "image/png": "[encoded data removed]",
      "text/plain": [
       "<Figure size 720x504 with 2 Axes>"
      ]
     },
     "metadata": {
      "needs_background": "light"
     },
     "output_type": "display_data"
    }
   ],
   "source": [
    "# Рассчитайте и визуализировать корреляционную матрицу для количественных переменных.\n",
    "# Определите две самые скоррелированные и две наименеескоррелированные переменные.\n",
    "plt.subplots(figsize=(10, 7))\n",
    "sn.heatmap(df.loc[:, ~df.columns.isin(['department', 'salary'])].corr(), annot=True)"
   ]
  },
  {
   "cell_type": "code",
   "execution_count": 6,
   "metadata": {},
   "outputs": [],
   "source": [
    "# Вывод: \n",
    "# 2 самых скоррелированных параметра:\n",
    "#     (satisfaction_level - left) - показывает, что с ростом уровня удовлетворенности снижается риск ухода\n",
    "#     (number_project - average_montly_hours) - очевидно, что чем больше проектов, тем больше рабочих часов, я бы удалил один \n",
    "#     из параметров, т.к. они закорреллированы.\n",
    "\n",
    "# 2 самых наименеескоррелированных параметра:\n",
    "#     (average_montly_hours - promotion_last_5years) - продвижение за последние 5 лет никак не влияет на количество рабочих часов\n",
    "#     (time_spend_company - Work_accident) - опыт (время работы в компании) не влияет на количество инцидентов\n",
    "    \n",
    "# В целом, исходя из коэффициентов корреляции, можно сделать следующие выводы:\n",
    "#     1. Продвижение по работе за последние 5 лет - не влияет ни на что. Кандидат на удаление.\n",
    "#     2. С ростом уровня удовлетворенности снижается риск ухода.\n",
    "#     3. В свою очередь, на уровень удовлетворенности не заничетельно влияет количество проектов (чем больше проектов - \n",
    "#                                                                                                тем ниже уровень удовлетворения).\n",
    "#     4. Чем больше проектов, тем больше рабочих часов. Количество рабочих часов - кандидат на удаление.\n",
    "#     5. Большее количество проектов у тех, кто дольше работает в компании."
   ]
  },
  {
   "cell_type": "code",
   "execution_count": 7,
   "metadata": {},
   "outputs": [
    {
     "data": {
      "text/html": [
       "<div>\n",
       "<style scoped>\n",
       "    .dataframe tbody tr th:only-of-type {\n",
       "        vertical-align: middle;\n",
       "    }\n",
       "\n",
       "    .dataframe tbody tr th {\n",
       "        vertical-align: top;\n",
       "    }\n",
       "\n",
       "    .dataframe thead th {\n",
       "        text-align: right;\n",
       "    }\n",
       "</style>\n",
       "<table border=\"1\" class=\"dataframe\">\n",
       "  <thead>\n",
       "    <tr style=\"text-align: right;\">\n",
       "      <th></th>\n",
       "      <th>department</th>\n",
       "      <th>counts</th>\n",
       "    </tr>\n",
       "  </thead>\n",
       "  <tbody>\n",
       "    <tr>\n",
       "      <th>7</th>\n",
       "      <td>sales</td>\n",
       "      <td>4140</td>\n",
       "    </tr>\n",
       "    <tr>\n",
       "      <th>9</th>\n",
       "      <td>technical</td>\n",
       "      <td>2720</td>\n",
       "    </tr>\n",
       "    <tr>\n",
       "      <th>8</th>\n",
       "      <td>support</td>\n",
       "      <td>2229</td>\n",
       "    </tr>\n",
       "    <tr>\n",
       "      <th>0</th>\n",
       "      <td>IT</td>\n",
       "      <td>1227</td>\n",
       "    </tr>\n",
       "    <tr>\n",
       "      <th>6</th>\n",
       "      <td>product_mng</td>\n",
       "      <td>902</td>\n",
       "    </tr>\n",
       "    <tr>\n",
       "      <th>5</th>\n",
       "      <td>marketing</td>\n",
       "      <td>858</td>\n",
       "    </tr>\n",
       "    <tr>\n",
       "      <th>1</th>\n",
       "      <td>RandD</td>\n",
       "      <td>787</td>\n",
       "    </tr>\n",
       "    <tr>\n",
       "      <th>2</th>\n",
       "      <td>accounting</td>\n",
       "      <td>767</td>\n",
       "    </tr>\n",
       "    <tr>\n",
       "      <th>3</th>\n",
       "      <td>hr</td>\n",
       "      <td>739</td>\n",
       "    </tr>\n",
       "    <tr>\n",
       "      <th>4</th>\n",
       "      <td>management</td>\n",
       "      <td>630</td>\n",
       "    </tr>\n",
       "  </tbody>\n",
       "</table>\n",
       "</div>"
      ],
      "text/plain": [
       "    department  counts\n",
       "7        sales    4140\n",
       "9    technical    2720\n",
       "8      support    2229\n",
       "0           IT    1227\n",
       "6  product_mng     902\n",
       "5    marketing     858\n",
       "1        RandD     787\n",
       "2   accounting     767\n",
       "3           hr     739\n",
       "4   management     630"
      ]
     },
     "execution_count": 7,
     "metadata": {},
     "output_type": "execute_result"
    }
   ],
   "source": [
    "# Рассчитайте сколько сотрудников работает в каждом департаменте\n",
    "df_departments = df.groupby(by='department').size().reset_index(name='counts').sort_values('counts', ascending=False)\n",
    "df_departments"
   ]
  },
  {
   "cell_type": "code",
   "execution_count": 8,
   "metadata": {},
   "outputs": [],
   "source": [
    "# Вывод:\n",
    "# Наибольшее количество сотрудников работает в департаменте продаж, на втором месте технические специалисты и поддержка."
   ]
  },
  {
   "cell_type": "code",
   "execution_count": 9,
   "metadata": {},
   "outputs": [
    {
     "data": {
      "text/html": [
       "<div>\n",
       "<style scoped>\n",
       "    .dataframe tbody tr th:only-of-type {\n",
       "        vertical-align: middle;\n",
       "    }\n",
       "\n",
       "    .dataframe tbody tr th {\n",
       "        vertical-align: top;\n",
       "    }\n",
       "\n",
       "    .dataframe thead th {\n",
       "        text-align: right;\n",
       "    }\n",
       "</style>\n",
       "<table border=\"1\" class=\"dataframe\">\n",
       "  <thead>\n",
       "    <tr style=\"text-align: right;\">\n",
       "      <th></th>\n",
       "      <th>salary</th>\n",
       "      <th>counts</th>\n",
       "    </tr>\n",
       "  </thead>\n",
       "  <tbody>\n",
       "    <tr>\n",
       "      <th>1</th>\n",
       "      <td>low</td>\n",
       "      <td>7316</td>\n",
       "    </tr>\n",
       "    <tr>\n",
       "      <th>2</th>\n",
       "      <td>medium</td>\n",
       "      <td>6446</td>\n",
       "    </tr>\n",
       "    <tr>\n",
       "      <th>0</th>\n",
       "      <td>high</td>\n",
       "      <td>1237</td>\n",
       "    </tr>\n",
       "  </tbody>\n",
       "</table>\n",
       "</div>"
      ],
      "text/plain": [
       "   salary  counts\n",
       "1     low    7316\n",
       "2  medium    6446\n",
       "0    high    1237"
      ]
     },
     "execution_count": 9,
     "metadata": {},
     "output_type": "execute_result"
    }
   ],
   "source": [
    "# Показать распределение сотрудников по зарплатам\n",
    "df_salary = df.groupby(by='salary').size().reset_index(name='counts').sort_values('counts', ascending=False)\n",
    "df_salary"
   ]
  },
  {
   "cell_type": "code",
   "execution_count": 10,
   "metadata": {},
   "outputs": [],
   "source": [
    "# Вывод:\n",
    "# Отосительно общего уровня затрат, примерно половину сотрудников получают низкую заработную плату."
   ]
  },
  {
   "cell_type": "code",
   "execution_count": 11,
   "metadata": {
    "pycharm": {
     "name": "#%%\n"
    }
   },
   "outputs": [
    {
     "data": {
      "text/html": [
       "<div>\n",
       "<style scoped>\n",
       "    .dataframe tbody tr th:only-of-type {\n",
       "        vertical-align: middle;\n",
       "    }\n",
       "\n",
       "    .dataframe tbody tr th {\n",
       "        vertical-align: top;\n",
       "    }\n",
       "\n",
       "    .dataframe thead th {\n",
       "        text-align: right;\n",
       "    }\n",
       "</style>\n",
       "<table border=\"1\" class=\"dataframe\">\n",
       "  <thead>\n",
       "    <tr style=\"text-align: right;\">\n",
       "      <th></th>\n",
       "      <th>department</th>\n",
       "      <th>salary</th>\n",
       "      <th>counts</th>\n",
       "    </tr>\n",
       "  </thead>\n",
       "  <tbody>\n",
       "    <tr>\n",
       "      <th>28</th>\n",
       "      <td>technical</td>\n",
       "      <td>low</td>\n",
       "      <td>1372</td>\n",
       "    </tr>\n",
       "    <tr>\n",
       "      <th>29</th>\n",
       "      <td>technical</td>\n",
       "      <td>medium</td>\n",
       "      <td>1147</td>\n",
       "    </tr>\n",
       "    <tr>\n",
       "      <th>27</th>\n",
       "      <td>technical</td>\n",
       "      <td>high</td>\n",
       "      <td>201</td>\n",
       "    </tr>\n",
       "    <tr>\n",
       "      <th>25</th>\n",
       "      <td>support</td>\n",
       "      <td>low</td>\n",
       "      <td>1146</td>\n",
       "    </tr>\n",
       "    <tr>\n",
       "      <th>26</th>\n",
       "      <td>support</td>\n",
       "      <td>medium</td>\n",
       "      <td>942</td>\n",
       "    </tr>\n",
       "    <tr>\n",
       "      <th>24</th>\n",
       "      <td>support</td>\n",
       "      <td>high</td>\n",
       "      <td>141</td>\n",
       "    </tr>\n",
       "    <tr>\n",
       "      <th>22</th>\n",
       "      <td>sales</td>\n",
       "      <td>low</td>\n",
       "      <td>2099</td>\n",
       "    </tr>\n",
       "    <tr>\n",
       "      <th>23</th>\n",
       "      <td>sales</td>\n",
       "      <td>medium</td>\n",
       "      <td>1772</td>\n",
       "    </tr>\n",
       "    <tr>\n",
       "      <th>21</th>\n",
       "      <td>sales</td>\n",
       "      <td>high</td>\n",
       "      <td>269</td>\n",
       "    </tr>\n",
       "    <tr>\n",
       "      <th>19</th>\n",
       "      <td>product_mng</td>\n",
       "      <td>low</td>\n",
       "      <td>451</td>\n",
       "    </tr>\n",
       "    <tr>\n",
       "      <th>20</th>\n",
       "      <td>product_mng</td>\n",
       "      <td>medium</td>\n",
       "      <td>383</td>\n",
       "    </tr>\n",
       "    <tr>\n",
       "      <th>18</th>\n",
       "      <td>product_mng</td>\n",
       "      <td>high</td>\n",
       "      <td>68</td>\n",
       "    </tr>\n",
       "    <tr>\n",
       "      <th>16</th>\n",
       "      <td>marketing</td>\n",
       "      <td>low</td>\n",
       "      <td>402</td>\n",
       "    </tr>\n",
       "    <tr>\n",
       "      <th>17</th>\n",
       "      <td>marketing</td>\n",
       "      <td>medium</td>\n",
       "      <td>376</td>\n",
       "    </tr>\n",
       "    <tr>\n",
       "      <th>15</th>\n",
       "      <td>marketing</td>\n",
       "      <td>high</td>\n",
       "      <td>80</td>\n",
       "    </tr>\n",
       "    <tr>\n",
       "      <th>12</th>\n",
       "      <td>management</td>\n",
       "      <td>high</td>\n",
       "      <td>225</td>\n",
       "    </tr>\n",
       "    <tr>\n",
       "      <th>14</th>\n",
       "      <td>management</td>\n",
       "      <td>medium</td>\n",
       "      <td>225</td>\n",
       "    </tr>\n",
       "    <tr>\n",
       "      <th>13</th>\n",
       "      <td>management</td>\n",
       "      <td>low</td>\n",
       "      <td>180</td>\n",
       "    </tr>\n",
       "    <tr>\n",
       "      <th>11</th>\n",
       "      <td>hr</td>\n",
       "      <td>medium</td>\n",
       "      <td>359</td>\n",
       "    </tr>\n",
       "    <tr>\n",
       "      <th>10</th>\n",
       "      <td>hr</td>\n",
       "      <td>low</td>\n",
       "      <td>335</td>\n",
       "    </tr>\n",
       "    <tr>\n",
       "      <th>9</th>\n",
       "      <td>hr</td>\n",
       "      <td>high</td>\n",
       "      <td>45</td>\n",
       "    </tr>\n",
       "    <tr>\n",
       "      <th>7</th>\n",
       "      <td>accounting</td>\n",
       "      <td>low</td>\n",
       "      <td>358</td>\n",
       "    </tr>\n",
       "    <tr>\n",
       "      <th>8</th>\n",
       "      <td>accounting</td>\n",
       "      <td>medium</td>\n",
       "      <td>335</td>\n",
       "    </tr>\n",
       "    <tr>\n",
       "      <th>6</th>\n",
       "      <td>accounting</td>\n",
       "      <td>high</td>\n",
       "      <td>74</td>\n",
       "    </tr>\n",
       "    <tr>\n",
       "      <th>5</th>\n",
       "      <td>RandD</td>\n",
       "      <td>medium</td>\n",
       "      <td>372</td>\n",
       "    </tr>\n",
       "    <tr>\n",
       "      <th>4</th>\n",
       "      <td>RandD</td>\n",
       "      <td>low</td>\n",
       "      <td>364</td>\n",
       "    </tr>\n",
       "    <tr>\n",
       "      <th>3</th>\n",
       "      <td>RandD</td>\n",
       "      <td>high</td>\n",
       "      <td>51</td>\n",
       "    </tr>\n",
       "    <tr>\n",
       "      <th>1</th>\n",
       "      <td>IT</td>\n",
       "      <td>low</td>\n",
       "      <td>609</td>\n",
       "    </tr>\n",
       "    <tr>\n",
       "      <th>2</th>\n",
       "      <td>IT</td>\n",
       "      <td>medium</td>\n",
       "      <td>535</td>\n",
       "    </tr>\n",
       "    <tr>\n",
       "      <th>0</th>\n",
       "      <td>IT</td>\n",
       "      <td>high</td>\n",
       "      <td>83</td>\n",
       "    </tr>\n",
       "  </tbody>\n",
       "</table>\n",
       "</div>"
      ],
      "text/plain": [
       "     department  salary  counts\n",
       "28    technical     low    1372\n",
       "29    technical  medium    1147\n",
       "27    technical    high     201\n",
       "25      support     low    1146\n",
       "26      support  medium     942\n",
       "24      support    high     141\n",
       "22        sales     low    2099\n",
       "23        sales  medium    1772\n",
       "21        sales    high     269\n",
       "19  product_mng     low     451\n",
       "20  product_mng  medium     383\n",
       "18  product_mng    high      68\n",
       "16    marketing     low     402\n",
       "17    marketing  medium     376\n",
       "15    marketing    high      80\n",
       "12   management    high     225\n",
       "14   management  medium     225\n",
       "13   management     low     180\n",
       "11           hr  medium     359\n",
       "10           hr     low     335\n",
       "9            hr    high      45\n",
       "7    accounting     low     358\n",
       "8    accounting  medium     335\n",
       "6    accounting    high      74\n",
       "5         RandD  medium     372\n",
       "4         RandD     low     364\n",
       "3         RandD    high      51\n",
       "1            IT     low     609\n",
       "2            IT  medium     535\n",
       "0            IT    high      83"
      ]
     },
     "execution_count": 11,
     "metadata": {},
     "output_type": "execute_result"
    }
   ],
   "source": [
    "# Показать распределение сотрудников по зарплатам в каждомдепартаменте по отдельности\n",
    "df_departments_salary = df.groupby(by=['department', 'salary']).size().reset_index(name='counts').sort_values(['department', 'counts'], ascending=False)\n",
    "df_departments_salary"
   ]
  },
  {
   "cell_type": "code",
   "execution_count": 12,
   "metadata": {
    "pycharm": {
     "name": "#%%\n"
    }
   },
   "outputs": [
    {
     "data": {
      "text/plain": [
       "<matplotlib.legend.Legend at 0x7fd384af1f40>"
      ]
     },
     "execution_count": 12,
     "metadata": {},
     "output_type": "execute_result"
    },
    {
     "data": {
      "image/png": "[encoded data removed]",
      "text/plain": [
       "<Figure size 432x288 with 1 Axes>"
      ]
     },
     "metadata": {
      "needs_background": "light"
     },
     "output_type": "display_data"
    },
    {
     "data": {
      "image/png": "[encoded data removed]",
      "text/plain": [
       "<Figure size 432x288 with 1 Axes>"
      ]
     },
     "metadata": {
      "needs_background": "light"
     },
     "output_type": "display_data"
    }
   ],
   "source": [
    "# Проверить гипотезу, что сотрудники с высоким окладом проводят на работе больше времени, чем сотрудники с низкимокладом\n",
    "# df_time_at_work_and_salary = df[['salary', 'average_montly_hours']]\n",
    "df_time_at_work_and_salary = df.loc[df['salary'] != \"medium\", ['salary', 'average_montly_hours']]\n",
    "df_time_at_work_and_high_salary = df_time_at_work_and_salary.loc[df['salary'] == \"high\", [\"average_montly_hours\"]]\n",
    "df_time_at_work_and_low_salary = df_time_at_work_and_salary.loc[df['salary'] == \"low\", [\"average_montly_hours\"]]\n",
    "df_time_at_work_and_high_salary.hist(label=\"high_salary\", color=\"r\")\n",
    "plt.legend()\n",
    "df_time_at_work_and_low_salary.hist(label=\"low_salary\", color=\"g\")\n",
    "plt.legend()"
   ]
  },
  {
   "cell_type": "code",
   "execution_count": 13,
   "metadata": {
    "pycharm": {
     "name": "#%%\n"
    }
   },
   "outputs": [],
   "source": [
    "# H0: время проводимое на работе НЕ ОТЛИЧАЕТСЯ от уровня заработной платы\n",
    "# H1: время проводимое на работе ОТЛИЧАЕТСЯ от уровня заработной платы"
   ]
  },
  {
   "cell_type": "code",
   "execution_count": 14,
   "metadata": {
    "pycharm": {
     "name": "#%%\n"
    }
   },
   "outputs": [
    {
     "name": "stdout",
     "output_type": "stream",
     "text": [
      "Ttest_indResult(statistic=array([-0.76243317]), pvalue=array([0.44590455]))\n",
      "Не отвергаем нулевую гипотезу, время проводимое на работе НЕ ОТЛИЧАЕТСЯ от уровня заработной платы\n",
      "F_onewayResult(statistic=array([0.53124862]), pvalue=array([0.46610235]))\n",
      "Не отвергаем нулевую гипотезу, время проводимое на работе НЕ ОТЛИЧАЕТСЯ от уровня заработной платы\n"
     ]
    }
   ],
   "source": [
    "# Т-Тест Стьюдента\n",
    "alpha = 0.05\n",
    "result = sts.ttest_ind(df_time_at_work_and_high_salary, df_time_at_work_and_low_salary, equal_var=False)\n",
    "print(result)\n",
    "if (result.pvalue < alpha):\n",
    "    print('Отвергаем нулевую гипотезу, время проводимое на работе ОТЛИЧАЕТСЯ от уровня заработной платы')\n",
    "else:\n",
    "    print('Не отвергаем нулевую гипотезу, время проводимое на работе НЕ ОТЛИЧАЕТСЯ от уровня заработной платы')\n",
    "    \n",
    "# По Фишеру (дисперсионный анализ)\n",
    "result = f_oneway(df_time_at_work_and_high_salary, df_time_at_work_and_low_salary)\n",
    "print(result)\n",
    "if (result.pvalue > alpha):\n",
    "    print('Не отвергаем нулевую гипотезу, время проводимое на работе НЕ ОТЛИЧАЕТСЯ от уровня заработной платы')\n",
    "else:\n",
    "    print('Отвергаем нулевую гипотезу, время проводимое на работе ОТЛИЧАЕТСЯ от уровня заработной платы')"
   ]
  },
  {
   "cell_type": "code",
   "execution_count": 15,
   "metadata": {
    "pycharm": {
     "name": "#%%\n"
    }
   },
   "outputs": [],
   "source": [
    "# Вывод: \n",
    "# Гипотеза, о том, что сотрудники с высоким окладом проводят на работе больше времени, \n",
    "# чем сотрудники с низкимокладом НЕ ПОДТВЕРЖДАЕТСЯ"
   ]
  },
  {
   "cell_type": "code",
   "execution_count": 16,
   "metadata": {
    "pycharm": {
     "name": "#%%\n"
    }
   },
   "outputs": [],
   "source": [
    "# Рассчитать следующие показатели среди уволившихся и неуволившихся сотрудников (по отдельности):\n",
    "# ● Доля сотрудников с повышением за последние 5 лет\n",
    "# ● Средняя степень удовлетворенности\n",
    "# ● Среднее количество проектов"
   ]
  },
  {
   "cell_type": "code",
   "execution_count": 17,
   "metadata": {
    "pycharm": {
     "name": "#%%\n"
    }
   },
   "outputs": [
    {
     "data": {
      "text/html": [
       "<div>\n",
       "<style scoped>\n",
       "    .dataframe tbody tr th:only-of-type {\n",
       "        vertical-align: middle;\n",
       "    }\n",
       "\n",
       "    .dataframe tbody tr th {\n",
       "        vertical-align: top;\n",
       "    }\n",
       "\n",
       "    .dataframe thead th {\n",
       "        text-align: right;\n",
       "    }\n",
       "</style>\n",
       "<table border=\"1\" class=\"dataframe\">\n",
       "  <thead>\n",
       "    <tr style=\"text-align: right;\">\n",
       "      <th></th>\n",
       "      <th>left</th>\n",
       "      <th>counts</th>\n",
       "    </tr>\n",
       "  </thead>\n",
       "  <tbody>\n",
       "    <tr>\n",
       "      <th>3</th>\n",
       "      <td>1</td>\n",
       "      <td>0.1</td>\n",
       "    </tr>\n",
       "    <tr>\n",
       "      <th>1</th>\n",
       "      <td>0</td>\n",
       "      <td>2.0</td>\n",
       "    </tr>\n",
       "  </tbody>\n",
       "</table>\n",
       "</div>"
      ],
      "text/plain": [
       "   left  counts\n",
       "3     1     0.1\n",
       "1     0     2.0"
      ]
     },
     "execution_count": 17,
     "metadata": {},
     "output_type": "execute_result"
    }
   ],
   "source": [
    "# Доля сотрудников с повышением за последние 5 лет\n",
    "df_fire_workers_with_promotion = (df.groupby(by=['left', 'promotion_last_5years'])\n",
    "                                   .size()\n",
    "                                   .reset_index(name='counts')\n",
    "                                   .sort_values(['left', 'counts'], ascending=False))\n",
    "df_fire_workers_with_promotion['counts'] = (round(df_fire_workers_with_promotion['counts'] / \n",
    "                                                  df['promotion_last_5years'].count() * 100, 1))\n",
    "df_fire_workers_with_promotion = (df_fire_workers_with_promotion\n",
    "                                  .loc[df_fire_workers_with_promotion['promotion_last_5years'] == 1, ['left', 'counts']])\n",
    "df_fire_workers_with_promotion"
   ]
  },
  {
   "cell_type": "code",
   "execution_count": 18,
   "metadata": {
    "pycharm": {
     "name": "#%%\n"
    }
   },
   "outputs": [
    {
     "data": {
      "text/html": [
       "<div>\n",
       "<style scoped>\n",
       "    .dataframe tbody tr th:only-of-type {\n",
       "        vertical-align: middle;\n",
       "    }\n",
       "\n",
       "    .dataframe tbody tr th {\n",
       "        vertical-align: top;\n",
       "    }\n",
       "\n",
       "    .dataframe thead th {\n",
       "        text-align: right;\n",
       "    }\n",
       "</style>\n",
       "<table border=\"1\" class=\"dataframe\">\n",
       "  <thead>\n",
       "    <tr style=\"text-align: right;\">\n",
       "      <th></th>\n",
       "      <th>satisfaction_level</th>\n",
       "    </tr>\n",
       "    <tr>\n",
       "      <th>left</th>\n",
       "      <th></th>\n",
       "    </tr>\n",
       "  </thead>\n",
       "  <tbody>\n",
       "    <tr>\n",
       "      <th>0</th>\n",
       "      <td>0.666810</td>\n",
       "    </tr>\n",
       "    <tr>\n",
       "      <th>1</th>\n",
       "      <td>0.440098</td>\n",
       "    </tr>\n",
       "  </tbody>\n",
       "</table>\n",
       "</div>"
      ],
      "text/plain": [
       "      satisfaction_level\n",
       "left                    \n",
       "0               0.666810\n",
       "1               0.440098"
      ]
     },
     "execution_count": 18,
     "metadata": {},
     "output_type": "execute_result"
    }
   ],
   "source": [
    "# Средняя степень удовлетворенности\n",
    "df_fire_workers_with_satisfaction = df[['left', 'satisfaction_level']].groupby(by=['left']).mean()\n",
    "df_fire_workers_with_satisfaction"
   ]
  },
  {
   "cell_type": "code",
   "execution_count": 19,
   "metadata": {
    "pycharm": {
     "name": "#%%\n"
    }
   },
   "outputs": [
    {
     "data": {
      "text/html": [
       "<div>\n",
       "<style scoped>\n",
       "    .dataframe tbody tr th:only-of-type {\n",
       "        vertical-align: middle;\n",
       "    }\n",
       "\n",
       "    .dataframe tbody tr th {\n",
       "        vertical-align: top;\n",
       "    }\n",
       "\n",
       "    .dataframe thead th {\n",
       "        text-align: right;\n",
       "    }\n",
       "</style>\n",
       "<table border=\"1\" class=\"dataframe\">\n",
       "  <thead>\n",
       "    <tr style=\"text-align: right;\">\n",
       "      <th></th>\n",
       "      <th>number_project</th>\n",
       "    </tr>\n",
       "    <tr>\n",
       "      <th>left</th>\n",
       "      <th></th>\n",
       "    </tr>\n",
       "  </thead>\n",
       "  <tbody>\n",
       "    <tr>\n",
       "      <th>0</th>\n",
       "      <td>3.786664</td>\n",
       "    </tr>\n",
       "    <tr>\n",
       "      <th>1</th>\n",
       "      <td>3.855503</td>\n",
       "    </tr>\n",
       "  </tbody>\n",
       "</table>\n",
       "</div>"
      ],
      "text/plain": [
       "      number_project\n",
       "left                \n",
       "0           3.786664\n",
       "1           3.855503"
      ]
     },
     "execution_count": 19,
     "metadata": {},
     "output_type": "execute_result"
    }
   ],
   "source": [
    "# Среднее количество проектов\n",
    "df_fire_workers_with_projects = df[['left', 'number_project']].groupby(by=['left']).mean()\n",
    "df_fire_workers_with_projects"
   ]
  },
  {
   "cell_type": "code",
   "execution_count": 20,
   "metadata": {
    "pycharm": {
     "name": "#%%\n"
    }
   },
   "outputs": [
    {
     "name": "stdout",
     "output_type": "stream",
     "text": [
      "Accuracy score based on TRAIN sample 0.76\n",
      "\n",
      "Accuracy score based on TEST sample 0.76\n",
      "\n",
      "Confusion matrix показывает, что количество истинно отрицательных - максимальное, \n",
      "что указывает о высокой точности предсказаний, что сотрудник уволиться.\n"
     ]
    },
    {
     "data": {
      "text/plain": [
       "<AxesSubplot:>"
      ]
     },
     "execution_count": 20,
     "metadata": {},
     "output_type": "execute_result"
    },
    {
     "data": {
      "image/png": "[encoded data removed]",
      "text/plain": [
       "<Figure size 432x288 with 2 Axes>"
      ]
     },
     "metadata": {
      "needs_background": "light"
     },
     "output_type": "display_data"
    }
   ],
   "source": [
    "# Разделить данные на тестовую и обучающую выборки. Построить модель LDA, \n",
    "# предсказывающую уволился лисотрудник на основе имеющихся факторов (кроме department и salary)\n",
    "# Оценить качество модели на тестовой выборки\n",
    "\n",
    "# Линейно-дискреминантный анализ\n",
    "df_train, df_test = train_test_split(df.loc[:, ~df.columns.isin(['department', 'salary'])], test_size=0.3)\n",
    "y_train, y_test = df_train['left'], df_test['left']\n",
    "del df_train['left']\n",
    "del df_test['left']\n",
    "lda = LinearDiscriminantAnalysis()\n",
    "lda.fit(df_train, y_train)\n",
    "print(f'Accuracy score based on TRAIN sample {round(accuracy_score(y_train, lda.predict(df_train)), 2)}\\n')\n",
    "print(f'Accuracy score based on TEST sample {round(accuracy_score(y_test, lda.predict(df_test)), 2)}\\n')\n",
    "\n",
    "print(\"Confusion matrix показывает, что количество истинно отрицательных - максимальное, \\n\\\n",
    "что указывает о высокой точности предсказаний, что сотрудник уволиться.\")\n",
    "sn.heatmap(confusion_matrix(y_test, \n",
    "                 lda.predict(df_test), \n",
    "                 labels=[1, 0],\n",
    "                 normalize='pred'), annot=True)"
   ]
  },
  {
   "cell_type": "code",
   "execution_count": 21,
   "metadata": {
    "pycharm": {
     "name": "#%%\n"
    }
   },
   "outputs": [
    {
     "name": "stdout",
     "output_type": "stream",
     "text": [
      "Accuracy score based on TRAIN sample 0.76\n",
      "\n",
      "Accuracy score based on TEST sample 0.76\n",
      "\n",
      "Confusion matrix показывает, что количество истинно отрицательных - максимальное, \n",
      "что указывает о высокой точности предсказаний, что сотрудник уволиться.\n"
     ]
    },
    {
     "data": {
      "text/plain": [
       "<AxesSubplot:>"
      ]
     },
     "execution_count": 21,
     "metadata": {},
     "output_type": "execute_result"
    },
    {
     "data": {
      "image/png": "[encoded data removed]",
      "text/plain": [
       "<Figure size 432x288 with 2 Axes>"
      ]
     },
     "metadata": {
      "needs_background": "light"
     },
     "output_type": "display_data"
    }
   ],
   "source": [
    "# Логистическая регрессия\n",
    "\n",
    "clf = LogisticRegression(random_state=42, max_iter=1000).fit(df_train, y_train)\n",
    "print(f'Accuracy score based on TRAIN sample {round(clf.score(df_train, y_train), 2)}\\n')\n",
    "print(f'Accuracy score based on TEST sample {round(clf.score(df_test, y_test), 2)}\\n')\n",
    "\n",
    "print(\"Confusion matrix показывает, что количество истинно отрицательных - максимальное, \\n\\\n",
    "что указывает о высокой точности предсказаний, что сотрудник уволиться.\")\n",
    "sn.heatmap(confusion_matrix(y_test, \n",
    "                 clf.predict(df_test), \n",
    "                 labels=[1, 0],\n",
    "                 normalize='pred'), annot=True)"
   ]
  }
 ],
 "metadata": {
  "kernelspec": {
   "display_name": "Python 3",
   "language": "python",
   "name": "python3"
  },
  "language_info": {
   "codemirror_mode": {
    "name": "ipython",
    "version": 3
   },
   "file_extension": ".py",
   "mimetype": "text/x-python",
   "name": "python",
   "nbconvert_exporter": "python",
   "pygments_lexer": "ipython3",
   "version": "3.8.2"
  }
 },
 "nbformat": 4,
 "nbformat_minor": 1
}
